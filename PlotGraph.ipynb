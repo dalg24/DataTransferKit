{
 "cells": [
  {
   "cell_type": "code",
   "execution_count": 23,
   "metadata": {},
   "outputs": [
    {
     "name": "stdout",
     "output_type": "stream",
     "text": [
      "    i441 [style=filled, color=yellow];\n",
      "    i442 [style=filled, color=yellow];\n",
      "    i716 [style=filled, color=yellow];\n",
      "    i717 [style=filled, color=yellow];\n",
      "    i626 [style=filled, color=yellow];\n",
      "    i627 [style=filled, color=yellow];\n",
      "    i491 [style=filled, color=yellow];\n",
      "    i492 [style=filled, color=yellow];\n",
      "    i474 [style=filled, color=yellow];\n",
      "    i475 [style=filled, color=yellow];\n",
      "    i490 [style=filled, color=yellow];\n",
      "    l81 [style=filled, color=pink];\n",
      "    i482 [style=filled, color=yellow];\n",
      "    i483 [style=filled, color=yellow];\n",
      "    i485 [style=filled, color=yellow];\n",
      "    i486 [style=filled, color=yellow];\n",
      "    l60 [style=filled, color=pink];\n",
      "    i484 [style=filled, color=yellow];\n",
      "    l59 [style=filled, color=pink];\n",
      "    l58 [style=filled, color=pink];\n",
      "    i488 [style=filled, color=yellow];\n",
      "    i489 [style=filled, color=yellow];\n",
      "    i487 [style=filled, color=yellow];\n",
      "    l76 [style=filled, color=pink];\n",
      "    l61 [style=filled, color=pink];\n",
      "    l77 [style=filled, color=pink];\n",
      "    l75 [style=filled, color=pink];\n",
      "    l74 [style=filled, color=pink];\n",
      "    i478 [style=filled, color=yellow];\n",
      "    i479 [style=filled, color=yellow];\n",
      "    i480 [style=filled, color=yellow];\n",
      "    i481 [style=filled, color=yellow];\n",
      "    l63 [style=filled, color=pink];\n",
      "    l62 [style=filled, color=pink];\n",
      "    i663 [style=filled, color=yellow];\n",
      "    i664 [style=filled, color=yellow];\n",
      "    i637 [style=filled, color=yellow];\n",
      "    i638 [style=filled, color=yellow];\n",
      "    i631 [style=filled, color=yellow];\n",
      "    i632 [style=filled, color=yellow];\n",
      "    l56 [style=filled, color=pink];\n",
      "    i628 [style=filled, color=yellow];\n",
      "    i630 [style=filled, color=yellow];\n",
      "    l71 [style=filled, color=pink];\n",
      "    l57 [style=filled, color=pink];\n",
      "    i629 [style=filled, color=yellow];\n",
      "    l73 [style=filled, color=pink];\n",
      "    l72 [style=filled, color=pink];\n",
      "    l59 [style=filled, color=black];\n",
      "    l60 [style=filled, color=black];\n",
      "    l58 [style=filled, color=black];\n",
      "    l61 [style=filled, color=black];\n",
      "    l57 [style=filled, color=black];\n",
      "    l74 [style=filled, color=black];\n",
      "    l75 [style=filled, color=black];\n",
      "    l73 [style=filled, color=black];\n"
     ]
    }
   ],
   "source": [
    "nearest_traversal = []\n",
    "replace = {\n",
    "    '[internal]': '[style=filled, color=yellow]',\n",
    "    '[leaf]': '[style=filled, color=pink]',\n",
    "    '[result]': '[style=filled, color=black]',\n",
    "}\n",
    "with open('big_8_nearest_to_origin_tree_traversal_nodes.dot.m4') as fin:\n",
    "    def is_commented(line):\n",
    "        return line.lstrip(' ').startswith('//')\n",
    "    def is_edge(line):\n",
    "        return line.count('->') > 0\n",
    "    for line in fin:\n",
    "        for old, new in replace.items():\n",
    "            line = line.replace(old, new)\n",
    "        line = line.rstrip('\\n')\n",
    "        if line and not is_commented(line) and not is_edge(line):\n",
    "            print(line)\n",
    "            nearest_traversal.append(line)"
   ]
  },
  {
   "cell_type": "code",
   "execution_count": 17,
   "metadata": {},
   "outputs": [],
   "source": [
    "tree = []\n",
    "replace = {\n",
    "    '[internal]': '[style=filled, color=red]',\n",
    "    '[leaf]': '[style=filled, color=green]',\n",
    "    '[edge]': '',\n",
    "    '[pendant]': '',\n",
    "}\n",
    "with open('big_tree_all_nodes_and_edges.dot.m4') as fin:\n",
    "    for line in fin:\n",
    "        line = line.rstrip('\\n')\n",
    "        for old, new in replace.items():\n",
    "            line = line.replace(old, new)\n",
    "        tree.append(line)"
   ]
  },
  {
   "cell_type": "code",
   "execution_count": 18,
   "metadata": {},
   "outputs": [],
   "source": [
    "tree.insert(0, 'digraph g {')\n",
    "tree.append('}')"
   ]
  },
  {
   "cell_type": "code",
   "execution_count": 3,
   "metadata": {},
   "outputs": [],
   "source": [
    "import tempfile\n",
    "import os\n",
    "def print_graph(tree, png_file):\n",
    "    with tempfile.NamedTemporaryFile(mode='w') as fout:\n",
    "        for line in tree:\n",
    "            print(line, file=fout)\n",
    "        fout.flush()\n",
    "        os.system('twopi -Tpng {dot_file} -o {png_file}'.format(dot_file=fout.name, png_file=png_file))"
   ]
  },
  {
   "cell_type": "code",
   "execution_count": 16,
   "metadata": {},
   "outputs": [],
   "source": [
    "for index, line in enumerate(nearest_traversal):\n",
    "    tree.insert(-1, line)\n",
    "    print_graph(tree, 'zzzz_{0:04d}.png'.format(index))"
   ]
  },
  {
   "cell_type": "code",
   "execution_count": 17,
   "metadata": {},
   "outputs": [
    {
     "data": {
      "text/plain": [
       "0"
      ]
     },
     "execution_count": 17,
     "metadata": {},
     "output_type": "execute_result"
    }
   ],
   "source": [
    "os.system('convert -delay 10 -quality 100 {prefix}_*.png {prefix}.gif'.format(prefix='zzzz'))"
   ]
  },
  {
   "cell_type": "code",
   "execution_count": 148,
   "metadata": {},
   "outputs": [
    {
     "name": "stdout",
     "output_type": "stream",
     "text": [
      "\\draw[thick, color=black] (0,0.1) rectangle (1.04,1.08);\n",
      "\\draw[thick, color=black] (0.5,0.2) rectangle (1.04,1.08);\n",
      "\\draw[thick, color=black] (0.6,0.7) rectangle (0.94,1.08);\n",
      "\\draw[ultra thin, color=pink] (0.8,0.7) rectangle (0.94,0.88);\n",
      "\\draw[ultra thin, color=pink] (0.6,0.9) rectangle (0.74,1.08);\n",
      "\\draw[thick, color=black] (0.5,0.2) rectangle (1.04,0.58);\n",
      "\\draw[ultra thin, color=pink] (0.9,0.3) rectangle (1.04,0.48);\n",
      "\\draw[thick, color=black] (0.5,0.2) rectangle (0.84,0.58);\n",
      "\\draw[ultra thin, color=pink] (0.5,0.4) rectangle (0.64,0.58);\n",
      "\\draw[ultra thin, color=pink] (0.7,0.2) rectangle (0.84,0.38);\n",
      "\\draw[thick, color=black] (0,0.1) rectangle (0.34,0.88);\n",
      "\\draw[ultra thin, color=pink] (0.2,0.7) rectangle (0.34,0.88);\n",
      "\\draw[thick, color=black] (0,0.1) rectangle (0.34,0.38);\n",
      "\\draw[ultra thin, color=pink] (0.2,0.2) rectangle (0.34,0.38);\n",
      "\\draw[ultra thin, color=pink] (0,0.1) rectangle (0.14,0.28);\n"
     ]
    }
   ],
   "source": [
    "bounding_volumes = []\n",
    "replace = {\n",
    "    'internal': 'thick, color=black',\n",
    "    'leaf': 'ultra thin, color=pink',\n",
    "    'leaf_point': 'ultra thin, color=green',\n",
    "    'result': 'ultra thick, color=black',\n",
    "}\n",
    "#with open('damien_8_nearest_to_origin_tree_traversal_bounding_volumes.tex') as fin:\n",
    "with open('small_all_bounding_volumes.tex') as fin:\n",
    "    for line in fin:\n",
    "        if line.find('rectangle') != -1:\n",
    "            line = transform_rectangle_into_node_if_it_has_wrong_topological_dimension(line)\n",
    "        for old, new in replace.items():\n",
    "            line = line.replace(old, new)\n",
    "        line = line.rstrip('\\n')\n",
    "        if line and not line.lstrip(' ').startswith('//'):\n",
    "            print(line)\n",
    "            bounding_volumes.append(line)"
   ]
  },
  {
   "cell_type": "code",
   "execution_count": 135,
   "metadata": {},
   "outputs": [],
   "source": [
    "headers = r\"\"\"\\documentclass[tikz]{standalone}\n",
    "\\usepackage{tikz}\n",
    "\\tikzset{\n",
    "  internal/.style = {thick,color=black},\n",
    "  leaf/.style = {ultra thick,color=red, fill},\n",
    "  result/.style = {ultra thick,color=orange},\n",
    "  leaf_point/.style = {ultra thin,color=green}\n",
    "}\n",
    "\\begin{document}\n",
    "\\begin{tikzpicture}[scale=4]\n",
    "\\input{damien_points}\n",
    "\\end{tikzpicture}\n",
    "\\end{document}\"\"\".split('\\n')"
   ]
  },
  {
   "cell_type": "code",
   "execution_count": 136,
   "metadata": {},
   "outputs": [],
   "source": [
    "for index, line in enumerate(bounding_volumes):\n",
    "    headers.insert(-2, line)\n",
    "    print_image(headers, 'bbb_{0:04d}.pdf'.format(index))"
   ]
  },
  {
   "cell_type": "code",
   "execution_count": 137,
   "metadata": {},
   "outputs": [
    {
     "data": {
      "text/plain": [
       "0"
      ]
     },
     "execution_count": 137,
     "metadata": {},
     "output_type": "execute_result"
    }
   ],
   "source": [
    "os.system('convert -delay 20 -quality 10 {prefix}_*.pdf {prefix}.gif'.format(prefix='bbb'))"
   ]
  },
  {
   "cell_type": "code",
   "execution_count": 6,
   "metadata": {},
   "outputs": [],
   "source": []
  },
  {
   "cell_type": "code",
   "execution_count": 57,
   "metadata": {},
   "outputs": [],
   "source": [
    "import subprocess\n",
    "import tempfile\n",
    "import os\n",
    "def print_image(headers, pdf_file):\n",
    "    tmpdir = tempfile.TemporaryDirectory()\n",
    "    prefix = pdf_file.split('.')[0]\n",
    "    with open('{0}/{1}.tex'.format(tmpdir.name, prefix), 'w') as fout:\n",
    "        for line in headers:\n",
    "            print(line, file=fout)\n",
    "    cmd = 'pdflatex -output-directory={0} {0}/{1}.tex'.format(tmpdir.name, prefix)\n",
    "    subprocess.run(cmd.split(' '), stdout=subprocess.PIPE)\n",
    "    cmd = 'cp {0}/{1}.pdf .'.format(tmpdir.name, prefix)\n",
    "    subprocess.run(cmd.split(' '))\n",
    "    tmpdir.cleanup()"
   ]
  },
  {
   "cell_type": "code",
   "execution_count": 124,
   "metadata": {},
   "outputs": [],
   "source": [
    "def transform_rectangle_into_node_if_it_has_wrong_topological_dimension(s):\n",
    "    assert(s.find('rectangle') != -1)\n",
    "    def extract(s, start, end):\n",
    "        return s[s.find(start):s.find(end)+1]\n",
    "    min_corner, max_corner = [extract(x, start='(', end=')') for x in s.split('rectangle')]\n",
    "    if (min_corner == max_corner):\n",
    "        attributes = extract(s, start='[', end=']')\n",
    "        return r'\\node{0} at {1} {2};'.format(attributes, min_corner, r'{\\textbullet}')\n",
    "    else:\n",
    "        return s     "
   ]
  },
  {
   "cell_type": "code",
   "execution_count": 7,
   "metadata": {},
   "outputs": [],
   "source": [
    "print_graph(tree, 'small.png')"
   ]
  },
  {
   "cell_type": "code",
   "execution_count": 16,
   "metadata": {},
   "outputs": [],
   "source": [
    "!dot -Tpng small.dot -o small.png"
   ]
  },
  {
   "cell_type": "code",
   "execution_count": 15,
   "metadata": {},
   "outputs": [
    {
     "name": "stdout",
     "output_type": "stream",
     "text": [
      "digraph g {\n",
      "    i0 [style=filled, color=red];\n",
      "    i0 -> i2 ;\n",
      "    i0 -> i3 ;\n",
      "    i3 [style=filled, color=red];\n",
      "    i3 -> i5 ;\n",
      "    i3 -> i6 ;\n",
      "    i6 [style=filled, color=red];\n",
      "    i6 -> l2 ;\n",
      "    i6 -> l7 ;\n",
      "    l7 [style=filled, color=green];\n",
      "    l2 [style=filled, color=green];\n",
      "    i5 [style=filled, color=red];\n",
      "    i5 -> i4 ;\n",
      "    i5 -> l0 ;\n",
      "    l0 [style=filled, color=green];\n",
      "    i4 [style=filled, color=red];\n",
      "    i4 -> l4 ;\n",
      "    i4 -> l6 ;\n",
      "    l6 [style=filled, color=green];\n",
      "    l4 [style=filled, color=green];\n",
      "    i2 [style=filled, color=red];\n",
      "    i2 -> i1 ;\n",
      "    i2 -> l3 ;\n",
      "    l3 [style=filled, color=green];\n",
      "    i1 [style=filled, color=red];\n",
      "    i1 -> l5 ;\n",
      "    i1 -> l1 ;\n",
      "    l1 [style=filled, color=green];\n",
      "    l5 [style=filled, color=green];\n",
      "}\n"
     ]
    }
   ],
   "source": [
    "with open('small.dot', 'w') as fout:\n",
    "    for line in tree:\n",
    "        print(line, file=fout)\n",
    "        print(line)"
   ]
  },
  {
   "cell_type": "code",
   "execution_count": 147,
   "metadata": {},
   "outputs": [],
   "source": [
    "headers = r\"\"\"\\documentclass[tikz]{standalone}\n",
    "\\usepackage{tikz}\n",
    "\\begin{document}\n",
    "\\begin{tikzpicture}[scale=4]\n",
    "\\end{tikzpicture}\n",
    "\\end{document}\"\"\".split('\\n')"
   ]
  },
  {
   "cell_type": "code",
   "execution_count": 19,
   "metadata": {},
   "outputs": [],
   "source": [
    "with open('big.dot', 'w') as fout:\n",
    "    for line in tree:\n",
    "        print(line, file=fout)"
   ]
  },
  {
   "cell_type": "code",
   "execution_count": 20,
   "metadata": {},
   "outputs": [
    {
     "name": "stdout",
     "output_type": "stream",
     "text": [
      "Error: remove_overlap: Graphviz not built with triangulation library\n"
     ]
    }
   ],
   "source": [
    "!sfdp -Tpng big.dot -o big.png"
   ]
  },
  {
   "cell_type": "code",
   "execution_count": 24,
   "metadata": {},
   "outputs": [
    {
     "name": "stdout",
     "output_type": "stream",
     "text": [
      "digraph g {\n",
      "    i0 [style=bold];\n",
      "    i0 -> i2 ;\n",
      "    i0 -> i3 ;\n",
      "    i3 [style=filled, color=\"#D3D3D3\"]; // lightgrey\n",
      "    i3 -> i5 ;\n",
      "    i3 -> i6 ;\n",
      "    i6 [style=filled, color=grey];\n",
      "    i6 -> l2 ;\n",
      "    i6 -> l7 ;\n",
      "    l7 [style=filled, color=red, label=\"7\"];\n",
      "    l2 [style=filled, color=red, label=\"2\"];\n",
      "    i5 [style=filled, color=grey];\n",
      "    i5 -> i4 ;\n",
      "    i5 -> l0 ;\n",
      "    l0 [style=filled, color=red, label=\"0\"];\n",
      "    i4 [style=filled, color=\"#A9A9A9\"]; // darkgrey\n",
      "    i4 -> l4 ;\n",
      "    i4 -> l6 ;\n",
      "    l6 [style=filled, color=red, label=\"6\"];\n",
      "    l4 [style=filled, color=red, label=\"4\"];\n",
      "    i2 [style=filled, color=\"#D3D3D3\"] // lightgrey;\n",
      "    i2 -> i1 ;\n",
      "    i2 -> l3 ;\n",
      "    l3 [style=filled, color=red, label=\"3\"];\n",
      "    i1 [style=filled, color=grey];\n",
      "    i1 -> l5 ;\n",
      "    i1 -> l1 ;\n",
      "    l1 [style=filled, color=red, label=\"1\"];\n",
      "    l5 [style=filled, color=red, label=\"5\"];\n",
      "}\n"
     ]
    }
   ],
   "source": [
    "!cat small.dot"
   ]
  },
  {
   "cell_type": "code",
   "execution_count": 25,
   "metadata": {},
   "outputs": [
    {
     "name": "stdout",
     "output_type": "stream",
     "text": [
      "\\documentclass[tikz]{standalone}\n",
      "\\usepackage{tikz}\n",
      "\\usepackage{fontawesome}\n",
      "\n",
      "\\tikzset{\n",
      "  internal_zero/.style = {thick,color=black},\n",
      "  internal_one/.style = {thick,color=black,fill=lightgray},\n",
      "  internal_two/.style = {thick,color=black,fill=gray},\n",
      "  internal_three/.style = {thick,color=black,fill=darkgray},\n",
      "  leaf/.style = {ultra thin,color=red},\n",
      "}\n",
      "\n",
      "\\begin{document}\n",
      "\n",
      "\\tiny\n",
      "\n",
      "\\begin{tikzpicture}[scale=2]\n",
      "\n",
      "\\draw[internal_zero] (0,0.1) rectangle (1.04,1.08);\n",
      "\\node[anchor=north west] at (0,1.08) {i0};\n",
      "\\draw[internal_one] (0.5,0.2) rectangle (1.04,1.08);\n",
      "%\\node[anchor=south west] at (0.5,0.58) {i3};\n",
      "\\draw[internal_two] (0.6,0.7) rectangle (0.94,1.08) node[anchor=north east] {i6};\n",
      "\\node[anchor=south] at (0.77,0.58) {i3};\n",
      "\\draw[leaf] (0.8,0.7) rectangle node {\\small \\faFemale} node[anchor=center,color=black] {7} (0.94,0.88);\n",
      "\\draw[leaf] (0.6,0.9) rectangle node {\\small \\faMale} node[anchor=center,color=black] {2} (0.74,1.08);\n",
      "\\draw[internal_two] (0.5,0.2) rectangle (1.04,0.58) node[anchor=north east] {i5};\n",
      "\\draw[leaf] (0.9,0.3) rectangle node {\\small \\faFemale} node[anchor=center,color=black] {0} (1.04,0.48);\n",
      "\\draw[internal_three] (0.5,0.2) rectangle (0.84,0.58);\n",
      "\\node[anchor=south west] at (0.5, 0.2) {i4};\n",
      "\\draw[leaf] (0.5,0.4) rectangle node {\\small \\faFemale} node[anchor=center,color=black] {6} (0.64,0.58);\n",
      "\\draw[leaf] (0.7,0.2) rectangle node {\\small \\faMale} node[anchor=center,color=black] {4} (0.84,0.38);\n",
      "\\draw[internal_one] (0,0.1) rectangle (0.34,0.88);\n",
      "\\node[anchor=north west] at (0,0.88) {i2};\n",
      "\\draw[leaf] (0.2,0.7) rectangle node {\\small \\faFemale} node[anchor=center,color=black] {3} (0.34,0.88);\n",
      "\\draw[internal_two] (0,0.1) rectangle (0.34,0.38);\n",
      "\\node[anchor=north west] at (0,0.38) {i1};\n",
      "\\draw[leaf] (0.2,0.2) rectangle node {\\small \\faFemale} node[anchor=center,color=black] {1} (0.34,0.38);\n",
      "\\draw[leaf] (0,0.1) rectangle node {\\small \\faMale} node[anchor=center,color=black] {5} (0.14,0.28);\n",
      "\n",
      "%\\draw[leaf] (.0,.1) rectangle node {\\faMale} ++(.14,.18);\n",
      "%\\draw[leaf] (.2,.2) rectangle node {\\faFemale} ++(.14,.18);\n",
      "%\\draw[leaf] (.5,.4) rectangle node {\\faFemale} ++(.14,.18);\n",
      "%\\draw[leaf] (.2,.7) rectangle node {\\faMale} ++(.14,.18);\n",
      "%\\draw[leaf] (.7,.2) rectangle node {\\faFemale} ++(.14,.18);\n",
      "%\\draw[leaf] (.9,.3) rectangle node {\\faFemale} ++(.14,.18);\n",
      "%\\draw[leaf] (.6,.9) rectangle node {\\faMale} ++(.14,.18);\n",
      "%\\draw[leaf] (.8,.7) rectangle node {\\faFemale} ++(.14,.18) node[anchor=south west] {L-SEVEN};\n",
      "\n",
      "%\\node[color=red] at (.45,.65) {\\faMale};\n",
      "\\end{tikzpicture}\n",
      "\\end{document}\n"
     ]
    }
   ],
   "source": [
    "!cat small.tex"
   ]
  },
  {
   "cell_type": "code",
   "execution_count": null,
   "metadata": {},
   "outputs": [],
   "source": []
  }
 ],
 "metadata": {
  "kernelspec": {
   "display_name": "Python 3",
   "language": "python",
   "name": "python3"
  },
  "language_info": {
   "codemirror_mode": {
    "name": "ipython",
    "version": 3
   },
   "file_extension": ".py",
   "mimetype": "text/x-python",
   "name": "python",
   "nbconvert_exporter": "python",
   "pygments_lexer": "ipython3",
   "version": "3.6.3"
  }
 },
 "nbformat": 4,
 "nbformat_minor": 2
}
